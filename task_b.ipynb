{
 "cells": [
  {
   "cell_type": "markdown",
   "metadata": {},
   "source": [
    "# Task B: Stack Overflow Developer Survey 2025 Analytics\n",
    "\n",
    "You are provided with the latest developer survey results from Stack Overflow. Your task is to perform analytics on the survey to extract insights about the programming industry."
   ]
  },
  {
   "cell_type": "markdown",
   "metadata": {},
   "source": [
    "## Setup\n",
    "If you are in google colab, you should just be able to run the cell below. Otherwise find the conda `environment.yml` file provided with all the dependencies."
   ]
  },
  {
   "cell_type": "code",
   "execution_count": null,
   "metadata": {},
   "outputs": [],
   "source": [
    "%pip install pandas\n",
    "import pandas as pd"
   ]
  },
  {
   "cell_type": "markdown",
   "metadata": {},
   "source": [
    "## Reading the data\n",
    "\n",
    "Find a utility class below to read the data for you."
   ]
  },
  {
   "cell_type": "code",
   "execution_count": null,
   "metadata": {},
   "outputs": [],
   "source": [
    "import csv\n",
    "from typing import List, Dict, Any, Optional\n",
    "from pathlib import Path\n",
    "\n",
    "RESPONSE_ID_FIELD_NAME = \"ResponseId\"\n",
    "QUESTION_ID_FIELD_NAME = \"qid\"\n",
    "\n",
    "class SurveyDataReader:\n",
    "    \"\"\"\n",
    "    Read and process Stack Overflow Developer Survey data.\n",
    "    \"\"\"\n",
    "\n",
    "    def __init__(self, schema_file: str, data_file: str):\n",
    "        self.schema = self._parse_schema(schema_file)\n",
    "        self.data = self._parse_data(data_file)\n",
    "\n",
    "    def _parse_schema(self, schema_file: str) -> List[Dict[str, str]]:\n",
    "        schema = []\n",
    "        schema_path = Path(schema_file).resolve()\n",
    "        with open(schema_path, mode=\"r\") as file:\n",
    "            reader = csv.DictReader(file)\n",
    "            schema = [row for row in reader]\n",
    "        return schema\n",
    "\n",
    "    def _parse_data(self, data_file: str) -> List[Dict[str, Any]]:\n",
    "        data = []\n",
    "        data_path = Path(data_file).resolve()\n",
    "        with open(data_path, mode=\"r\") as file:\n",
    "            reader = csv.DictReader(file)\n",
    "            data = [row for row in reader]\n",
    "        return data\n",
    "\n",
    "    def get_schema(self) -> List[Dict[str, str]]:\n",
    "        return self.schema\n",
    "\n",
    "    def get_data(self) -> List[Dict[str, Any]]:\n",
    "        return self.data\n",
    "\n",
    "    def get_question_by_id(self, qid: str) -> Optional[Dict[str, str]]:\n",
    "        for question in self.schema:\n",
    "            if question[QUESTION_ID_FIELD_NAME] == qid:\n",
    "                return question\n",
    "        return None\n",
    "\n",
    "    def get_responses_for_question(self, qname: str) -> List[Any]:\n",
    "        return [response[qname] for response in self.data if qname in response]\n",
    "\n",
    "    def get_response_by_id(self, response_id: str | int) -> Optional[Dict[str, Any]]:\n",
    "        response_id_str = str(response_id)\n",
    "        for response in self.data:\n",
    "            if response[RESPONSE_ID_FIELD_NAME] == response_id_str:\n",
    "                return response\n",
    "        return None"
   ]
  },
  {
   "cell_type": "markdown",
   "metadata": {},
   "source": [
    "## Getting to know the data reader"
   ]
  },
  {
   "cell_type": "code",
   "execution_count": null,
   "metadata": {},
   "outputs": [],
   "source": [
    "SURVEY_SUBDIR = \"stack-overflow-developer-survey-2025\"\n",
    "SCHEMA_RELATIVE_PATH = f\"{SURVEY_SUBDIR}/survey_results_schema.csv\"\n",
    "DATA_RELATIVE_PATH = f\"{SURVEY_SUBDIR}/survey_results_public_cleaned.csv\"\n",
    "\n",
    "reader = SurveyDataReader(SCHEMA_RELATIVE_PATH, DATA_RELATIVE_PATH)"
   ]
  },
  {
   "cell_type": "code",
   "execution_count": null,
   "metadata": {},
   "outputs": [],
   "source": [
    "print(reader.get_schema())\n",
    "\n",
    "print(len(reader.get_data()))\n",
    "\n",
    "print(reader.get_data()[0:10]) # Be careful when trying to output the data, there's lots of it!"
   ]
  },
  {
   "cell_type": "markdown",
   "metadata": {},
   "source": [
    "## Questions"
   ]
  },
  {
   "cell_type": "markdown",
   "metadata": {},
   "source": [
    "1. Print all of the questions asked in the developer survey"
   ]
  },
  {
   "cell_type": "code",
   "execution_count": null,
   "metadata": {},
   "outputs": [],
   "source": []
  },
  {
   "cell_type": "markdown",
   "metadata": {},
   "source": [
    "2. Which age range has the most responses in the survey?"
   ]
  },
  {
   "cell_type": "code",
   "execution_count": null,
   "metadata": {},
   "outputs": [],
   "source": []
  },
  {
   "cell_type": "markdown",
   "metadata": {},
   "source": [
    "3. How many survey respondents do we know definitely work for a company larger than Marshall Wace? (Feel free to ask one of us if you don't know how large Marshall Wace is!)"
   ]
  },
  {
   "cell_type": "code",
   "execution_count": null,
   "metadata": {},
   "outputs": [],
   "source": []
  },
  {
   "cell_type": "markdown",
   "metadata": {},
   "source": [
    "4. How many survey respondents had less than 1 year of coding experience before (or outside of) coding for their profession?"
   ]
  },
  {
   "cell_type": "code",
   "execution_count": null,
   "metadata": {},
   "outputs": [],
   "source": []
  },
  {
   "cell_type": "markdown",
   "metadata": {},
   "source": [
    "5. Of the people who had 1 or more years of coding experience outside of coding professionally, what is the average number of years they spent coding outside of work? For simplicity, you can consider only the people who have given an exact number of years they have spent coding in both columns (i.e. excluding those with over 50 or less than 1 year)"
   ]
  },
  {
   "cell_type": "code",
   "execution_count": null,
   "metadata": {},
   "outputs": [],
   "source": []
  },
  {
   "cell_type": "markdown",
   "metadata": {},
   "source": [
    "6. What is the median annual total compensation of those who specified their compensation in USD"
   ]
  },
  {
   "cell_type": "code",
   "execution_count": null,
   "metadata": {},
   "outputs": [],
   "source": []
  },
  {
   "cell_type": "markdown",
   "metadata": {},
   "source": [
    "7. Which programming language has respondents with the highest annual compensation in USD? If a response lists multiple languages, you can attribute the compensation to each language in the response."
   ]
  },
  {
   "cell_type": "code",
   "execution_count": null,
   "metadata": {},
   "outputs": [],
   "source": []
  },
  {
   "cell_type": "markdown",
   "metadata": {},
   "source": [
    "## Bonus Task: SurveyDataReader\n",
    "\n",
    "`SurveyDataReader` is a basic class that allows you to access the underlying survey data programmatically. The class is implemented with basic data structures and no external dependencies hence there is plenty of room for optimisation. Try to improve the speed of basic operations and add some of your own by potentially leveraging a package such as [NumPy](https://numpy.org/)."
   ]
  }
 ],
 "metadata": {
  "kernelspec": {
   "display_name": "Python 3",
   "language": "python",
   "name": "python3"
  },
  "language_info": {
   "codemirror_mode": {
    "name": "ipython",
    "version": 3
   },
   "file_extension": ".py",
   "mimetype": "text/x-python",
   "name": "python",
   "nbconvert_exporter": "python",
   "pygments_lexer": "ipython3",
   "version": "3.11.0"
  }
 },
 "nbformat": 4,
 "nbformat_minor": 4
}
